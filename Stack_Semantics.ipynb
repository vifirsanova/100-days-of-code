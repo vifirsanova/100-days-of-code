{
  "nbformat": 4,
  "nbformat_minor": 0,
  "metadata": {
    "colab": {
      "name": "Stack_Semantics.ipynb",
      "provenance": [],
      "collapsed_sections": [],
      "authorship_tag": "ABX9TyNv8YwAdmS677xzhlA4w77g",
      "include_colab_link": true
    },
    "kernelspec": {
      "name": "python3",
      "display_name": "Python 3"
    },
    "language_info": {
      "name": "python"
    }
  },
  "cells": [
    {
      "cell_type": "markdown",
      "metadata": {
        "id": "view-in-github",
        "colab_type": "text"
      },
      "source": [
        "<a href=\"https://colab.research.google.com/github/vifirsanova/100-days-of-code/blob/main/Stack_Semantics.ipynb\" target=\"_parent\"><img src=\"https://colab.research.google.com/assets/colab-badge.svg\" alt=\"Open In Colab\"/></a>"
      ]
    },
    {
      "cell_type": "code",
      "metadata": {
        "colab": {
          "base_uri": "https://localhost:8080/"
        },
        "id": "hsQo1dtKpgwt",
        "outputId": "67357e0a-31af-43af-8bb7-4cb5f3965b7c"
      },
      "source": [
        "!pip install -q -U trax\n",
        "import trax"
      ],
      "execution_count": 2,
      "outputs": [
        {
          "output_type": "stream",
          "text": [
            "\u001b[K     |████████████████████████████████| 522kB 4.3MB/s \n",
            "\u001b[K     |████████████████████████████████| 235kB 9.1MB/s \n",
            "\u001b[K     |████████████████████████████████| 3.4MB 6.9MB/s \n",
            "\u001b[K     |████████████████████████████████| 61kB 6.1MB/s \n",
            "\u001b[K     |████████████████████████████████| 3.8MB 27.6MB/s \n",
            "\u001b[K     |████████████████████████████████| 2.0MB 47.0MB/s \n",
            "\u001b[K     |████████████████████████████████| 368kB 50.5MB/s \n",
            "\u001b[K     |████████████████████████████████| 1.2MB 51.6MB/s \n",
            "\u001b[K     |████████████████████████████████| 3.2MB 40.9MB/s \n",
            "\u001b[K     |████████████████████████████████| 870kB 54.8MB/s \n",
            "\u001b[?25h  Building wheel for sacremoses (setup.py) ... \u001b[?25l\u001b[?25hdone\n"
          ],
          "name": "stdout"
        }
      ]
    },
    {
      "cell_type": "code",
      "metadata": {
        "id": "MbOCZJi2pBFx"
      },
      "source": [
        "# imports\n",
        "\n",
        "import numpy as np              \n",
        "from trax import layers as tl\n",
        "from trax import shapes\n",
        "from trax import fastmath"
      ],
      "execution_count": 3,
      "outputs": []
    },
    {
      "cell_type": "code",
      "metadata": {
        "id": "3w3l1j7qrI31"
      },
      "source": [
        "# Function layers\n",
        "# 1. Addition \n",
        "\n",
        "def Addition():\n",
        "    layer_name = \"Addition\"\n",
        "\n",
        "    def func(x, y):\n",
        "        return x + y\n",
        "\n",
        "    return tl.Fn(layer_name, func)\n",
        "\n",
        "# 2. Multiplication\n",
        "\n",
        "def Multiplication():\n",
        "    layer_name = \"Multiplication\"\n",
        "\n",
        "    def func(x, y):\n",
        "        return x * y\n",
        "\n",
        "    return tl.Fn(layer_name, func)"
      ],
      "execution_count": null,
      "outputs": []
    },
    {
      "cell_type": "code",
      "metadata": {
        "colab": {
          "base_uri": "https://localhost:8080/"
        },
        "id": "pb7FMSFxuReZ",
        "outputId": "1ceea7a1-edfd-4afb-b118-af95233566d7"
      },
      "source": [
        "# Serial combinator\n",
        "serial = tl.Serial(\n",
        "    Addition(), Multiplication(), Addition()  # (3 + 4) * 15 + 3\n",
        ")\n",
        "\n",
        "x = (np.array([3]), np.array([4]), np.array([15]), np.array([3]))  # input\n",
        "\n",
        "serial.init(shapes.signature(x))  # initializing serial instance\n",
        "\n",
        "# Outputs\n",
        "y = serial(x)\n",
        "print(y)"
      ],
      "execution_count": 13,
      "outputs": [
        {
          "output_type": "stream",
          "text": [
            "[108]\n"
          ],
          "name": "stdout"
        }
      ]
    },
    {
      "cell_type": "code",
      "metadata": {
        "colab": {
          "base_uri": "https://localhost:8080/"
        },
        "id": "aYs_n_r4vhaI",
        "outputId": "e1ff8ec7-6c50-4e4a-cfa6-65bf62e68bad"
      },
      "source": [
        "# Select\n",
        "serial = tl.Serial(tl.Select([0, 1, 0, 1]), Addition(), Multiplication(), Addition()) # (3 + 4) * 3 + 4\n",
        "\n",
        "x = (np.array([3]), np.array([4]))\n",
        "\n",
        "y = serial(x)\n",
        "print(y)"
      ],
      "execution_count": 14,
      "outputs": [
        {
          "output_type": "stream",
          "text": [
            "[25]\n"
          ],
          "name": "stdout"
        }
      ]
    },
    {
      "cell_type": "code",
      "metadata": {
        "colab": {
          "base_uri": "https://localhost:8080/"
        },
        "id": "3Lkpr3aE5N2z",
        "outputId": "656f4333-19e4-40bb-9e92-b846850ef971"
      },
      "source": [
        "# Select copies inputs\n",
        "serial = tl.Serial(\n",
        "    tl.Select([0, 1, 0, 1]), Addition(), tl.Select([0], n_in=2), Multiplication() # (3 + 4) * 4\n",
        ")\n",
        "\n",
        "x = (np.array([3]), np.array([4]))  \n",
        "\n",
        "serial.init(shapes.signature(x))  \n",
        "\n",
        "y = serial(x)\n",
        "print(y)"
      ],
      "execution_count": 15,
      "outputs": [
        {
          "output_type": "stream",
          "text": [
            "[28]\n"
          ],
          "name": "stdout"
        }
      ]
    },
    {
      "cell_type": "code",
      "metadata": {
        "colab": {
          "base_uri": "https://localhost:8080/"
        },
        "id": "VaHUug315qas",
        "outputId": "724eb436-e85f-4903-942f-6af772e88684"
      },
      "source": [
        "# Residual layer \n",
        "# Serial network\n",
        "serial = tl.Serial(\n",
        "    # Select copies the first two inputs\n",
        "    tl.Select([0, 1, 0, 1]),\n",
        "    # a Residual layer skips over the Fn: Addition() layer\n",
        "    tl.Residual(Addition())\n",
        ")\n",
        "\n",
        "print(serial, '\\n')\n",
        "print(\"number of inputs:\", serial.n_in)\n",
        "print(\"expected outputs:\", serial.n_out)"
      ],
      "execution_count": 26,
      "outputs": [
        {
          "output_type": "stream",
          "text": [
            "Serial_in2_out3[\n",
            "  Select[0,1,0,1]_in2_out4\n",
            "  Serial_in2[\n",
            "    Branch_in2_out2[\n",
            "      None\n",
            "      Addition_in2\n",
            "    ]\n",
            "    Add_in2\n",
            "  ]\n",
            "] \n",
            "\n",
            "number of inputs: 2\n",
            "expected outputs: 3\n"
          ],
          "name": "stdout"
        }
      ]
    },
    {
      "cell_type": "code",
      "metadata": {
        "colab": {
          "base_uri": "https://localhost:8080/"
        },
        "id": "hTj6gh8K6j5W",
        "outputId": "37745510-e7e4-45b7-c9c9-f34842af0aeb"
      },
      "source": [
        "x1 = np.array([3])\n",
        "x2 = np.array([4])\n",
        "\n",
        "y = serial((x1, x2))\n",
        "print(y)"
      ],
      "execution_count": 27,
      "outputs": [
        {
          "output_type": "stream",
          "text": [
            "(array([10]), array([3]), array([4]))\n"
          ],
          "name": "stdout"
        }
      ]
    },
    {
      "cell_type": "code",
      "metadata": {
        "colab": {
          "base_uri": "https://localhost:8080/"
        },
        "id": "5uc4K-v28rrQ",
        "outputId": "f3f4b227-7ca7-45d1-bdb4-07f2328471ff"
      },
      "source": [
        "# Residual layer \n",
        "# Serial network\n",
        "serial = tl.Serial(\n",
        "    # Select copies the first two inputs\n",
        "    tl.Select([0, 1, 0, 1]),\n",
        "    # a Residual layer skips over the Fn: Addition() layer\n",
        "    tl.Residual(Multiplication())\n",
        ")\n",
        "\n",
        "print(serial, '\\n')\n",
        "print(\"number of inputs:\", serial.n_in)\n",
        "print(\"expected outputs:\", serial.n_out)"
      ],
      "execution_count": 28,
      "outputs": [
        {
          "output_type": "stream",
          "text": [
            "Serial_in2_out3[\n",
            "  Select[0,1,0,1]_in2_out4\n",
            "  Serial_in2[\n",
            "    Branch_in2_out2[\n",
            "      None\n",
            "      Multiplication_in2\n",
            "    ]\n",
            "    Add_in2\n",
            "  ]\n",
            "] \n",
            "\n",
            "number of inputs: 2\n",
            "expected outputs: 3\n"
          ],
          "name": "stdout"
        }
      ]
    },
    {
      "cell_type": "code",
      "metadata": {
        "colab": {
          "base_uri": "https://localhost:8080/"
        },
        "id": "eXEmStJd_MBz",
        "outputId": "017d6ffd-19e2-4ffb-fe04-1be743cf79c9"
      },
      "source": [
        "x1 = np.array([3])\n",
        "x2 = np.array([4])\n",
        "\n",
        "y = serial((x1, x2))\n",
        "print(y)"
      ],
      "execution_count": 29,
      "outputs": [
        {
          "output_type": "stream",
          "text": [
            "(array([15]), array([3]), array([4]))\n"
          ],
          "name": "stdout"
        }
      ]
    }
  ]
}
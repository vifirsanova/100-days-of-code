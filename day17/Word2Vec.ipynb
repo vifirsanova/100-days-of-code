{
  "nbformat": 4,
  "nbformat_minor": 0,
  "metadata": {
    "colab": {
      "name": "Word2Vec.ipynb",
      "provenance": [],
      "collapsed_sections": [],
      "include_colab_link": true
    },
    "kernelspec": {
      "name": "python3",
      "display_name": "Python 3"
    }
  },
  "cells": [
    {
      "cell_type": "markdown",
      "metadata": {
        "id": "view-in-github",
        "colab_type": "text"
      },
      "source": [
        "<a href=\"https://colab.research.google.com/github/vifirsanova/100-days-of-code/blob/main/day17/Word2Vec.ipynb\" target=\"_parent\"><img src=\"https://colab.research.google.com/assets/colab-badge.svg\" alt=\"Open In Colab\"/></a>"
      ]
    },
    {
      "cell_type": "markdown",
      "metadata": {
        "id": "Qmy0eeIS4582"
      },
      "source": [
        "Автор: [Виктория Фирсанова](https://github.com/vifirsanova)"
      ]
    },
    {
      "cell_type": "markdown",
      "metadata": {
        "id": "3sxbjzFC4gke"
      },
      "source": [
        "# Загрузка пакетов, библиотек и дополнительных файлов"
      ]
    },
    {
      "cell_type": "code",
      "metadata": {
        "colab": {
          "base_uri": "https://localhost:8080/"
        },
        "id": "qXU8tdqXeyV7",
        "outputId": "c2cb2b0c-81d6-4cd0-bbbb-60dbd2724267"
      },
      "source": [
        "# цветной вывод\n",
        "pip install colorama"
      ],
      "execution_count": null,
      "outputs": [
        {
          "output_type": "stream",
          "text": [
            "Collecting colorama\n",
            "  Downloading https://files.pythonhosted.org/packages/44/98/5b86278fbbf250d239ae0ecb724f8572af1c91f4a11edf4d36a206189440/colorama-0.4.4-py2.py3-none-any.whl\n",
            "Installing collected packages: colorama\n",
            "Successfully installed colorama-0.4.4\n"
          ],
          "name": "stdout"
        }
      ]
    },
    {
      "cell_type": "code",
      "metadata": {
        "id": "e1kXzussaJGb"
      },
      "source": [
        "import json\n",
        "import random\n",
        "from colorama import Fore, Style\n",
        "import re\n",
        "from collections import defaultdict\n",
        "import numpy as np\n",
        "import torch\n",
        "from torch.utils.data import Dataset\n",
        "from torch import nn\n",
        "from torch.nn import functional as F\n",
        "from torch.utils.data import DataLoader\n",
        "import copy\n",
        "from sklearn.decomposition import TruncatedSVD\n",
        "import gensim"
      ],
      "execution_count": null,
      "outputs": []
    },
    {
      "cell_type": "code",
      "metadata": {
        "colab": {
          "base_uri": "https://localhost:8080/"
        },
        "id": "t_u3JuMlkN_n",
        "outputId": "2ac24cd0-0e18-4cdd-d15d-2e3101dc2ce5"
      },
      "source": [
        "# список стоп-слов\n",
        "!wget https://raw.githubusercontent.com/stopwords-iso/stopwords-ru/master/stopwords-ru.txt"
      ],
      "execution_count": null,
      "outputs": [
        {
          "output_type": "stream",
          "text": [
            "--2021-05-09 09:59:08--  https://raw.githubusercontent.com/stopwords-iso/stopwords-ru/master/stopwords-ru.txt\n",
            "Resolving raw.githubusercontent.com (raw.githubusercontent.com)... 185.199.108.133, 185.199.109.133, 185.199.110.133, ...\n",
            "Connecting to raw.githubusercontent.com (raw.githubusercontent.com)|185.199.108.133|:443... connected.\n",
            "HTTP request sent, awaiting response... 200 OK\n",
            "Length: 6229 (6.1K) [text/plain]\n",
            "Saving to: ‘stopwords-ru.txt’\n",
            "\n",
            "stopwords-ru.txt    100%[===================>]   6.08K  --.-KB/s    in 0s      \n",
            "\n",
            "2021-05-09 09:59:08 (68.3 MB/s) - ‘stopwords-ru.txt’ saved [6229/6229]\n",
            "\n"
          ],
          "name": "stdout"
        }
      ]
    },
    {
      "cell_type": "markdown",
      "metadata": {
        "id": "bXTw4mahdMkz"
      },
      "source": [
        "# Загрузка корпуса\n",
        "\n",
        "Для обучения используем собственный [корпус новостей газеты Московский комсомолец за 2020-2021 года.](https://drive.google.com/file/d/1ebxe77hTEWvmUggCMnRGdrVDwhuxC9Mr/view)"
      ]
    },
    {
      "cell_type": "code",
      "metadata": {
        "id": "SyK3agFYCmE8",
        "colab": {
          "base_uri": "https://localhost:8080/"
        },
        "outputId": "cf2de332-b20a-4af0-b7b3-3ba29e207677"
      },
      "source": [
        "# Загрузка данных и подготовка корпуса\n",
        "with open('corpus.json', encoding='utf-8', newline='') as json_file:\n",
        "    data = json.load(json_file)\n",
        "\n",
        "full_dataset = []\n",
        "\n",
        "for elem in data['data']:\n",
        "    full_dataset.append(elem['text'])\n",
        "\n",
        "# случайное перемешивание данных\n",
        "random.shuffle(full_dataset)\n",
        "\n",
        "# деление на обучающую и проверочную выборку\n",
        "TRAIN_VAL_SPLIT = int(len(full_dataset) * 0.8)\n",
        "train = full_dataset[:TRAIN_VAL_SPLIT]\n",
        "val = full_dataset[TRAIN_VAL_SPLIT:]\n",
        "\n",
        "print(f\"{Fore.RED}Размер обучающей выборки:{Style.RESET_ALL} {len(train)} новостей\\\n",
        "\\n{Fore.RED}Размер проверочной выборки:{Style.RESET_ALL} {len(val)} новостей\\n\\\n",
        "\\n{Fore.RED}Образец текста из выборки:{Style.RESET_ALL}\\n\", ''.join(train[0]))"
      ],
      "execution_count": null,
      "outputs": [
        {
          "output_type": "stream",
          "text": [
            "\u001b[31mРазмер обучающей выборки:\u001b[0m 36736 новостей\n",
            "\u001b[31mРазмер проверочной выборки:\u001b[0m 9184 новостей\n",
            "\n",
            "\u001b[31mОбразец текста из выборки:\u001b[0m\n",
            " \n",
            "В люксовых гостиинцах Москвы средний тариф вырос на 23%, утверждают в компании CBRE. При этом в организации подчеркивают, что во второй половине мая в городе оживилась деловая активность. Благодаря этому, в мае наполняемость отелей составила 14% против 8% в предыдущем месяце. При этом очевидно, что, чем дороже гостиница, тем меньше там людей. Ожидается, что в июне постояльцев станет еще больше, благодаря отмене ограничений по коронавирусу.\n",
            "\n",
            "\n"
          ],
          "name": "stdout"
        }
      ]
    },
    {
      "cell_type": "markdown",
      "metadata": {
        "id": "FooGSDZ_faJI"
      },
      "source": [
        "# Токенизация"
      ]
    },
    {
      "cell_type": "code",
      "metadata": {
        "id": "gYdho09cCrR0",
        "colab": {
          "base_uri": "https://localhost:8080/"
        },
        "outputId": "adccd49c-9aca-44f5-8647-432ad1d3190e"
      },
      "source": [
        "# построим токенизатор, который приводит тексты к нижнему регистру и удаляет все символы, кроме букв и цифр\n",
        "def tokenizer(text):\n",
        "    \"\"\"\n",
        "    Токенизатор\n",
        "    :text: текст для токенизации (str)\n",
        "    :return: токенизированный текст (list)\n",
        "    \"\"\"\n",
        "    tokens = re.compile(r'[\\w\\d]+').findall(text.lower())\n",
        "    return [token for token in tokens if len(token)]\n",
        "\n",
        "\n",
        "# функция для токенизации корпуса\n",
        "def tokenize(corpus, tokenizer=tokenizer):\n",
        "    \"\"\"\n",
        "    Токенизация\n",
        "    :corpus: корпус текстов или датасет (list)\n",
        "    :tokenizer: типа токенизатора (func)\n",
        "    :return: токенизированный корпус/датасет (list)\n",
        "    \"\"\"\n",
        "    return [tokenizer(text) for text in corpus]\n",
        "\n",
        "\n",
        "# токенизируем\n",
        "train_tokenized = tokenize(train)\n",
        "val_tokenized = tokenize(val)\n",
        "print(f\"{Fore.RED}Образец токенизированного текста:{Style.RESET_ALL}\\n\", ' '.join(train_tokenized[0]))"
      ],
      "execution_count": null,
      "outputs": [
        {
          "output_type": "stream",
          "text": [
            "\u001b[31mОбразец токенизированного текста:\u001b[0m\n",
            " в люксовых гостиинцах москвы средний тариф вырос на 23 утверждают в компании cbre при этом в организации подчеркивают что во второй половине мая в городе оживилась деловая активность благодаря этому в мае наполняемость отелей составила 14 против 8 в предыдущем месяце при этом очевидно что чем дороже гостиница тем меньше там людей ожидается что в июне постояльцев станет еще больше благодаря отмене ограничений по коронавирусу\n"
          ],
          "name": "stdout"
        }
      ]
    },
    {
      "cell_type": "markdown",
      "metadata": {
        "id": "DXAAXF5n-OvE"
      },
      "source": [
        "# Построение словаря"
      ]
    },
    {
      "cell_type": "code",
      "metadata": {
        "colab": {
          "base_uri": "https://localhost:8080/"
        },
        "id": "gHnxBzWskUF-",
        "outputId": "c66965e3-8e46-456b-9748-a2b17beb0b5b"
      },
      "source": [
        "# стоп-слова \n",
        "stop_words = []\n",
        "\n",
        "with open('stopwords-ru.txt', encoding='utf-8') as f:\n",
        "    for word in f:\n",
        "      stop_words.append(word[:-1])\n",
        "\n",
        "\n",
        "def build_vocab(data_tokenized, pad_word=None, stop_words=stop_words):\n",
        "    freq_dict = defaultdict(int) # количество словоупотреблений в документах \n",
        "    doc_n = len(data_tokenized) # общее количество документов\n",
        "\n",
        "    # посчитать количество словоупотреблений в документах \n",
        "    for text in data_tokenized:\n",
        "        unique_text_tokens = set(text)\n",
        "        for token in unique_text_tokens:\n",
        "            freq_dict[token] += 1\n",
        "\n",
        "\n",
        "    # удалить стоп-слова\n",
        "    for word in list(freq_dict.keys()):\n",
        "        if word in stop_words:\n",
        "            freq_dict.pop(word)\n",
        "\n",
        "\n",
        "    # удалить уникальные слова\n",
        "    freq_dict = {word: count for word, count in freq_dict.items() if count > 1}\n",
        "\n",
        "    # отсортировать слова по убыванию частоты\n",
        "    sorted_freq_dict = sorted(freq_dict.items(),\n",
        "                                reverse=True,\n",
        "                                key=lambda x: x[1])\n",
        "\n",
        "    # паддинг\n",
        "    padded_freq_dict = [(pad_word, 0)] + sorted_freq_dict\n",
        "    \n",
        "    # обновить нумерацию слов\n",
        "    word2id = {word: i for i, (word, _) in enumerate(padded_freq_dict)}\n",
        "\n",
        "    # преобразуем частотный словарь к виду матриц чисел\n",
        "    word2freq = np.array([count / doc_n for _, count in padded_freq_dict], dtype='float32')\n",
        "\n",
        "    return word2id, word2freq\n",
        "\n",
        "\n",
        "# строим словарь для обучающей выборки\n",
        "vocabulary, word_doc_freq = build_vocab(train_tokenized, pad_word='<PAD>', stop_words=stop_words)\n",
        "\n",
        "print(f\"{Fore.RED}Размер словаря:{Style.RESET_ALL} {len(vocabulary)}\\n\")\n",
        "print(f\"{Fore.RED}Образец словаря{Style.RESET_ALL}\\n\", list(vocabulary.items())[:10])"
      ],
      "execution_count": null,
      "outputs": [
        {
          "output_type": "stream",
          "text": [
            "\u001b[31mРазмер словаря:\u001b[0m 85694\n",
            "\n",
            "\u001b[31mОбразец словаря\u001b[0m\n",
            " [('<PAD>', 0), ('россии', 1), ('ранее', 2), ('заявил', 3), ('словам', 4), ('коронавируса', 5), ('сообщает', 6), ('сша', 7), ('отметил', 8), ('сообщил', 9)]\n"
          ],
          "name": "stdout"
        }
      ]
    },
    {
      "cell_type": "markdown",
      "metadata": {
        "id": "A1A0TY-u-VZz"
      },
      "source": [
        "# Векторизация"
      ]
    },
    {
      "cell_type": "code",
      "metadata": {
        "id": "NDwj7b2DC4It",
        "colab": {
          "base_uri": "https://localhost:8080/"
        },
        "outputId": "108183e6-0bc5-4f07-a8a7-dd7d4f2d74f0"
      },
      "source": [
        "def texts2ids(data_tokenized, word2id):\n",
        "    return [[word2id[token] for token in text if token in word2id]\n",
        "            for text in data_tokenized]\n",
        "\n",
        "# конвертация\n",
        "train_token_ids = texts2ids(train_tokenized, vocabulary)\n",
        "val_token_ids = texts2ids(val_tokenized, vocabulary)\n",
        "\n",
        "print(f\"{Fore.RED}Образец токенизированного текста{Style.RESET_ALL}\\n\", \n",
        "      ' '.join(train_tokenized[0][:5]))\n",
        "print(f\"{Fore.RED}Образец числовых представлений для этого текста{Style.RESET_ALL}\\n\", \n",
        "      ''.join(str(train_token_ids[0][:3])))\n",
        "n1, n2, n3 = train_token_ids[0][0], train_token_ids[0][1], train_token_ids[0][2]\n",
        "print(f\"{Fore.RED}Расшифровка с помощью словаря{Style.RESET_ALL}\\n\", list(vocabulary.items())[n1], \n",
        "      list(vocabulary.items())[n2], list(vocabulary.items())[n3])"
      ],
      "execution_count": null,
      "outputs": [
        {
          "output_type": "stream",
          "text": [
            "\u001b[31mОбразец токенизированного текста\u001b[0m\n",
            " в люксовых гостиинцах москвы средний\n",
            "\u001b[31mОбразец числовых представлений для этого текста\u001b[0m\n",
            " [37480, 151, 3983]\n",
            "\u001b[31mРасшифровка с помощью словаря\u001b[0m\n",
            " ('люксовых', 37480) ('москвы', 151) ('средний', 3983)\n"
          ],
          "name": "stdout"
        }
      ]
    },
    {
      "cell_type": "markdown",
      "metadata": {
        "id": "XWs8fNOtJOms"
      },
      "source": [
        "# Паддинг"
      ]
    },
    {
      "cell_type": "code",
      "metadata": {
        "id": "_mEOB-dODEZG",
        "colab": {
          "base_uri": "https://localhost:8080/"
        },
        "outputId": "ee1aabad-c962-46e5-f658-29d999b3c43c"
      },
      "source": [
        "# паддинг последовательностей (текстов):\n",
        "# мы задаем длину n для последовательностей обучающих данных,\n",
        "# обрезаем все тексты, которые превышают эту длину\n",
        "# и заполняем нулями все тексты, длина которых ниже заданной длины\n",
        "\n",
        "class PaddedSequenceDataset(Dataset):\n",
        "    def __init__(self, data, targets, out_len=100, pad_value=0):\n",
        "        self.data = data\n",
        "        self.targets = targets\n",
        "        self.out_len = out_len\n",
        "        self.pad_value = pad_value\n",
        "\n",
        "    def __len__(self):\n",
        "        return len(self.data)\n",
        "\n",
        "    def ensure_length(self, txt, out_len, pad_value):\n",
        "        if len(txt) < out_len:\n",
        "            txt = list(txt) + [pad_value] * (out_len - len(txt))\n",
        "        else:\n",
        "            txt = txt[:out_len]\n",
        "        return txt\n",
        "\n",
        "    def __getitem__(self, item):\n",
        "        txt = self.data[item]\n",
        "        txt = self.ensure_length(txt, self.out_len, self.pad_value)\n",
        "        txt = torch.tensor(txt, dtype=torch.long)\n",
        "        target = torch.tensor(self.targets[item], dtype=torch.long)\n",
        "\n",
        "        return txt, target\n",
        "\n",
        "\n",
        "# максимальная длина последовательности\n",
        "MAX_SENTENCE_LEN = 50\n",
        "\n",
        "# применить паддинг\n",
        "train_dataset = PaddedSequenceDataset(train_token_ids,\n",
        "                                      np.zeros(len(train_token_ids)),\n",
        "                                      out_len=MAX_SENTENCE_LEN)\n",
        "val_dataset = PaddedSequenceDataset(test_token_ids,\n",
        "                                     np.zeros(len(test_token_ids)),\n",
        "                                     out_len=MAX_SENTENCE_LEN)\n",
        "\n",
        "print(f\"{Fore.RED}Образец числовых представлений для текста из выборки{Style.RESET_ALL}\\n\", \n",
        "      ''.join(str(train_token_ids[0])))\n",
        "print(f\"{Fore.RED}\\nТо же после применения паддинга{Style.RESET_ALL}\\n\", train_dataset[0])"
      ],
      "execution_count": null,
      "outputs": [
        {
          "output_type": "stream",
          "text": [
            "\u001b[31mОбразец числовых представлений для текста из выборки\u001b[0m\n",
            " [37480, 151, 3983, 16183, 1708, 318, 1011, 274, 236, 5729, 3279, 266, 249, 33411, 3934, 790, 1514, 62309, 10087, 917, 246, 170, 22174, 3749, 4208, 7933, 27660, 172, 539, 1837, 10636, 501, 790, 3280, 668, 863]\n",
            "\u001b[31m\n",
            "То же после применения паддинга\u001b[0m\n",
            " (tensor([37480,   151,  3983, 16183,  1708,   318,  1011,   274,   236,  5729,\n",
            "         3279,   266,   249, 33411,  3934,   790,  1514, 62309, 10087,   917,\n",
            "          246,   170, 22174,  3749,  4208,  7933, 27660,   172,   539,  1837,\n",
            "        10636,   501,   790,  3280,   668,   863,     0,     0,     0,     0,\n",
            "            0,     0,     0,     0,     0,     0,     0,     0,     0,     0]), tensor(0))\n"
          ],
          "name": "stdout"
        }
      ]
    },
    {
      "cell_type": "markdown",
      "metadata": {
        "id": "pdz6jri0JksQ"
      },
      "source": [
        "# Модель"
      ]
    },
    {
      "cell_type": "code",
      "metadata": {
        "id": "XSD9C6i2EIdj"
      },
      "source": [
        "# побочная функция создает квадратную матрицу\n",
        "# потребуется для создания маски для обучения модели\n",
        "def make_diag_mask(size, radius):\n",
        "    idxs = torch.arange(size)\n",
        "    abs_idx_diff = (idxs.unsqueeze(0) - idxs.unsqueeze(1)).abs()\n",
        "    mask = ((abs_idx_diff <= radius) & (abs_idx_diff > 0)).float()\n",
        "    return mask\n",
        "\n",
        "\n",
        "# модель Skip Gram Negative Sampling\n",
        "class SkipGramNegativeSampling(nn.Module):\n",
        "    def __init__(self, vocab_size, emb_size, sentence_len, radius=3, negative_samples_n=30):\n",
        "        super().__init__()\n",
        "        self.vocab_size = vocab_size\n",
        "        self.negative_samples_n = negative_samples_n\n",
        "\n",
        "        self.center_emb = nn.Embedding(self.vocab_size, emb_size, padding_idx=0)\n",
        "        self.center_emb.weight.data.uniform_(-1.0 / emb_size, 1.0 / emb_size)\n",
        "        self.center_emb.weight.data[0] = 0\n",
        "\n",
        "        self.context_emb = nn.Embedding(self.vocab_size, emb_size, padding_idx=0)        \n",
        "        self.context_emb.weight.data.uniform_(-1.0 / emb_size, 1.0 / emb_size)\n",
        "        self.context_emb.weight.data[0] = 0\n",
        "\n",
        "        self.positive_sim_mask = make_diag_mask(sentence_len, radius)\n",
        "\n",
        "    def forward(self, sentences):\n",
        "        batch_size = sentences.shape[0]\n",
        "        center_embeddings = self.center_emb(sentences)  # Batch x MaxSentLength x EmbSize\n",
        "\n",
        "        # оценить сходство с соседними словами\n",
        "        positive_context_embs = self.context_emb(sentences).permute(0, 2, 1)  # Batch x EmbSize x MaxSentLength\n",
        "        positive_sims = torch.bmm(center_embeddings, positive_context_embs)  # Batch x MaxSentLength x MaxSentLength\n",
        "        positive_probs = torch.sigmoid(positive_sims)\n",
        "\n",
        "        # увеличить оценку вероятности совместной встречаемости для пар слов\n",
        "        positive_mask = self.positive_sim_mask.to(positive_sims.device)\n",
        "        positive_loss = F.binary_cross_entropy(positive_probs * positive_mask,\n",
        "                                               positive_mask.expand_as(positive_probs))\n",
        "\n",
        "        # выбрать случайные \"отрицательные\" слова\n",
        "        negative_words = torch.randint(1, self.vocab_size,\n",
        "                                       size=(batch_size, self.negative_samples_n),\n",
        "                                       device=sentences.device)  # Batch x NegSamplesN\n",
        "        negative_context_embs = self.context_emb(negative_words).permute(0, 2, 1)  # Batch x EmbSize x NegSamplesN\n",
        "        negative_sims = torch.bmm(center_embeddings, negative_context_embs)  # Batch x MaxSentLength x NegSamplesN\n",
        "        \n",
        "        # уменьшить оценку вероятности совместной встречаемости для пар слов\n",
        "        negative_loss = F.binary_cross_entropy_with_logits(negative_sims,\n",
        "                                                           negative_sims.new_zeros(negative_sims.shape))\n",
        "\n",
        "        return positive_loss + negative_loss\n",
        "\n",
        "\n",
        "# фиктивная функция потерь\n",
        "def no_loss(pred, target):\n",
        "    return pred"
      ],
      "execution_count": null,
      "outputs": []
    },
    {
      "cell_type": "markdown",
      "metadata": {
        "id": "nmFwfUJlPkmy"
      },
      "source": [
        "# Обучение"
      ]
    },
    {
      "cell_type": "code",
      "metadata": {
        "colab": {
          "base_uri": "https://localhost:8080/"
        },
        "id": "TAFYcz7Jc8tT",
        "outputId": "48f93e60-e0d1-4311-fd10-ca7eaa9c2c1b"
      },
      "source": [
        "# функция для сохранения обученной модели\n",
        "def copy_data_to_device(data, device):\n",
        "    if torch.is_tensor(data):\n",
        "        return data.to(device)\n",
        "    elif isinstance(data, (list, tuple)):\n",
        "        return [copy_data_to_device(elem, device) for elem in data]\n",
        "    raise ValueError()\n",
        "\n",
        "\n",
        "def train_and_eval(model, train_dataset, val_dataset, loss_func,\n",
        "                   lr=1e-4, epochs=10, batch_size=32,\n",
        "                   device=None, early_stopping_patience=10, l2=0,\n",
        "                   max_batches_per_epoch_train=10000,\n",
        "                   max_batches_per_epoch_val=1000,\n",
        "                   data_loader=DataLoader,\n",
        "                   optimizer=None,\n",
        "                   lr_scheduler=None,\n",
        "                   shuffle_train=True,\n",
        "                   dataloader_workers_n=0):\n",
        "    \"\"\"\n",
        "    Цикл для обучения и оценки модели\n",
        "    :model: модель для обучения (torch.nn.Module)\n",
        "    :train_dataset: обучающая выборка (torch.utils.data.Dataset)\n",
        "    :val_dataset: проверочная выборка (torch.utils.data.Dataset)\n",
        "    :loss_func: функция потерь (func)\n",
        "    :lr: скорость обучения (float)\n",
        "    :epochs: количество эпох обучения (int)\n",
        "    :batch_size: размер батча (int)\n",
        "    :device: cuda/cpu (str)\n",
        "    :early_stopping_patience: наибольшее количество эпох, в течение которых допускается\n",
        "        отсутствие улучшения модели (int)\n",
        "    :l2: коэффициент L2-регуляризации (int)\n",
        "    :max_batches_per_epoch_train: максимальное количество итераций на одну эпоху обучения (int)\n",
        "    :max_batches_per_epoch_val: максимальное количество итераций на одну эпоху валидации (int)\n",
        "    :data_loader: преобразует датасет в батчи (torch.utils.data.DataLoader)\n",
        "    :optimizer: оптимизатор (torch.optim.optimizer)\n",
        "    :lr_scheduler: задает скорость обучения (torch.optim.lr_scheduler)\n",
        "    :shuffle_train: перемешать данные в обучающей выборке (Bool)\n",
        "    :return: среднее значение функции потерь на валидации на лучшей эпохе, лучшая модель (tuple)\n",
        "    \"\"\"\n",
        "    device = torch.device(device)\n",
        "    model.to(device)\n",
        "    optimizer = torch.optim.Adam(model.parameters(), lr=lr, weight_decay=l2)\n",
        "    lr_scheduler = lr_scheduler(optimizer)\n",
        "    train_dataloader = data_loader(train_dataset, batch_size=batch_size, shuffle=shuffle_train,\n",
        "                                        num_workers=dataloader_workers_n)\n",
        "    val_dataloader = data_loader(val_dataset, batch_size=batch_size, shuffle=False,\n",
        "                                      num_workers=dataloader_workers_n)\n",
        "\n",
        "    best_val_loss = float('inf')\n",
        "    best_epoch = 0\n",
        "    best_model = copy.deepcopy(model)\n",
        "\n",
        "    for epoch in range(epochs):\n",
        "        try:\n",
        "            print(f\"Эпоха {epoch}\")\n",
        "\n",
        "            model.train()\n",
        "            mean_train_loss = 0\n",
        "            train_batches_n = 0\n",
        "            for batch_i, (batch_x, batch_y) in enumerate(train_dataloader):\n",
        "                if batch_i > max_batches_per_epoch_train:\n",
        "                    break\n",
        "\n",
        "                batch_x = copy_data_to_device(batch_x, device)\n",
        "                batch_y = copy_data_to_device(batch_y, device)\n",
        "\n",
        "                pred = model(batch_x)\n",
        "                loss = loss_func(pred, batch_y)\n",
        "\n",
        "                model.zero_grad()\n",
        "                loss.backward()\n",
        "\n",
        "                optimizer.step()\n",
        "\n",
        "                mean_train_loss += float(loss)\n",
        "                train_batches_n += 1\n",
        "\n",
        "            mean_train_loss /= train_batches_n\n",
        "            print(f\"Mean train loss = {mean_train_loss}\")\n",
        "\n",
        "\n",
        "            # После каждой эпохи качество модели оценивается по проверочной выборке\n",
        "            model.eval()\n",
        "            mean_val_loss = 0\n",
        "            val_batches_n = 0\n",
        "\n",
        "            with torch.no_grad():\n",
        "                for batch_i, (batch_x, batch_y) in enumerate(val_dataloader):\n",
        "                    if batch_i > max_batches_per_epoch_val:\n",
        "                        break\n",
        "\n",
        "                    batch_x = copy_data_to_device(batch_x, device)\n",
        "                    batch_y = copy_data_to_device(batch_y, device)\n",
        "\n",
        "                    pred = model(batch_x)\n",
        "                    loss = loss_func(pred, batch_y)\n",
        "\n",
        "                    mean_val_loss += float(loss)\n",
        "                    val_batches_n += 1\n",
        "\n",
        "            mean_val_loss /= val_batches_n\n",
        "            print(f\"Mean val loss = {mean_val_loss}\")\n",
        "\n",
        "            if mean_val_loss < best_val_loss:\n",
        "                best_epoch = epoch\n",
        "                best_val_loss = mean_val_loss\n",
        "                best_model = copy.deepcopy(model)\n",
        "            elif epoch - best_epoch > early_stopping_patience:\n",
        "                print(\"Early stopping\")\n",
        "                break\n",
        "\n",
        "            if lr_scheduler is not None:\n",
        "                lr_scheduler.step(mean_val_loss)\n",
        "\n",
        "            print()\n",
        "            \n",
        "        except KeyboardInterrupt:\n",
        "            break\n",
        "        except Exception as ex:\n",
        "            print(ex)\n",
        "            break\n",
        "\n",
        "    return best_val_loss, best_model\n",
        "\n",
        "model = SkipGramNegativeSampling(vocab_size=len(vocabulary), emb_size=100, sentence_len=MAX_SENTENCE_LEN, radius=3, negative_samples_n=30)\n",
        "\n",
        "best_val_loss, best_model = train_and_eval(model,\n",
        "                                           train_dataset,\n",
        "                                           val_dataset,\n",
        "                                           no_loss,\n",
        "                                           lr=1e-2,\n",
        "                                           epochs=5,\n",
        "                                           batch_size=4,\n",
        "                                           device='cpu',\n",
        "                                           early_stopping_patience=5,\n",
        "                                           max_batches_per_epoch_train=2000,\n",
        "                                           max_batches_per_epoch_val=len(val_dataset),\n",
        "                                           lr_scheduler=lambda optim: torch.optim.lr_scheduler.ReduceLROnPlateau(optim, patience=1, verbose=True))"
      ],
      "execution_count": null,
      "outputs": [
        {
          "output_type": "stream",
          "text": [
            "Эпоха 0\n",
            "Mean train loss = 0.6777163267373919\n",
            "Mean val loss = 0.5409589928643006\n",
            "\n",
            "Эпоха 1\n",
            "Mean train loss = 0.4658630435643108\n",
            "Mean val loss = 0.4107668593084563\n",
            "\n",
            "Эпоха 2\n",
            "Mean train loss = 0.39998311651074725\n",
            "Mean val loss = 0.38837730107692686\n",
            "\n",
            "Эпоха 3\n",
            "Mean train loss = 0.37731792836979233\n",
            "Mean val loss = 0.3714471168699269\n",
            "\n",
            "Эпоха 4\n",
            "Mean train loss = 0.35946254441137615\n",
            "Mean val loss = 0.36270631546680315\n",
            "\n"
          ],
          "name": "stdout"
        }
      ]
    },
    {
      "cell_type": "markdown",
      "metadata": {
        "id": "m9Exd9kSjh-5"
      },
      "source": [
        "# Анализ"
      ]
    },
    {
      "cell_type": "code",
      "metadata": {
        "id": "F1OHQfOlIrK-"
      },
      "source": [
        "class Word2Vec:\n",
        "    def __init__(self, embeddings, word2id):\n",
        "        self.embeddings = embeddings\n",
        "        self.embeddings /= (np.linalg.norm(self.embeddings, ord=2, axis=-1, keepdims=True) + 1e-4)\n",
        "        self.word2id = word2id\n",
        "        self.id2word = {i: w for w, i in word2id.items()}\n",
        "\n",
        "\n",
        "    def similar(self, word, num=10):\n",
        "        \"\"\"\n",
        "        Функция находит наиболее похожие слова на данное (в основе - функция get_similar)\n",
        "        :word: слово для анализа (str)\n",
        "        :num: количество сходных слов для отображения (int)\n",
        "        :return: num кортежей вида ('аналогичное слово' (str), вероятность сходства (0 <= float <= 1)) (list)\n",
        "        \"\"\"\n",
        "        return self.get_similar(self.get_vector(word), num=num)\n",
        "\n",
        "\n",
        "    def get_similar(self, vec, num=10):\n",
        "        \"\"\"\n",
        "        Функция находит наиболее похожие вектора на данный\n",
        "        :vec: вектор слова для анализа (numpy.ndarray)\n",
        "        :num: количество сходных слов для отображения (int)\n",
        "        :return: num кортежей вида ('аналогичное слово' (str), вероятность сходства (0 <= float <= 1)) (list)\n",
        "        \"\"\"\n",
        "        similarities = (self.embeddings * vec).sum(-1) # сходные слова\n",
        "        top_similar = np.argpartition(-similarities, num, axis=0)[:num]\n",
        "        result = [(self.id2word[i], similarities[i]) for i in top_similar] # список кортежей\n",
        "        result.sort(key=lambda x: -x[1]) # сортировка результата по убыванию\n",
        "        return result\n",
        "\n",
        "\n",
        "    def get_vector(self, word):\n",
        "        if word not in self.word2id:\n",
        "            raise ValueError('Неизвестное слово \"{}\"'.format(word))\n",
        "        return self.embeddings[self.word2id[word]]\n",
        "\n",
        "\n",
        "    def get_vectors(self, *words):\n",
        "        word_ids = [self.word2id[i] for i in words]\n",
        "        vectors = np.stack([self.embeddings[i] for i in word_ids], axis=0)\n",
        "        return vectors\n",
        "\n",
        "\n",
        "embeddings = Word2Vec(model.center_emb.weight.detach().cpu().numpy(), vocabulary)"
      ],
      "execution_count": null,
      "outputs": []
    },
    {
      "cell_type": "code",
      "metadata": {
        "id": "b7LQOCA-IubR",
        "colab": {
          "base_uri": "https://localhost:8080/"
        },
        "outputId": "0d7a42e5-4316-4fe5-e8ea-0c338008b899"
      },
      "source": [
        "embeddings.similar('президент')"
      ],
      "execution_count": null,
      "outputs": [
        {
          "output_type": "execute_result",
          "data": {
            "text/plain": [
              "[('президент', 0.9998),\n",
              " ('владимир', 0.7096379),\n",
              " ('заявил', 0.6802817),\n",
              " ('путин', 0.6715473),\n",
              " ('министр', 0.66285056),\n",
              " ('лидер', 0.62618214),\n",
              " ('президента', 0.6182108),\n",
              " ('эммануэль', 0.6089274),\n",
              " ('макрон', 0.604155),\n",
              " ('премьер', 0.59916675)]"
            ]
          },
          "metadata": {
            "tags": []
          },
          "execution_count": 199
        }
      ]
    },
    {
      "cell_type": "code",
      "metadata": {
        "colab": {
          "base_uri": "https://localhost:8080/"
        },
        "id": "SgErq7s1xu5W",
        "outputId": "3465832a-4ff0-42a7-8791-a0bdc7cd7775"
      },
      "source": [
        "embeddings.similar('коронавирус')"
      ],
      "execution_count": null,
      "outputs": [
        {
          "output_type": "execute_result",
          "data": {
            "text/plain": [
              "[('коронавирус', 0.99979997),\n",
              " ('covid', 0.6591861),\n",
              " ('19', 0.6286661),\n",
              " ('тест', 0.6116188),\n",
              " ('положительным', 0.6109684),\n",
              " ('диагнозом', 0.57951033),\n",
              " ('заболевания', 0.5698585),\n",
              " ('пневмония', 0.5659813),\n",
              " ('пациентов', 0.55714273),\n",
              " ('типа', 0.5552652)]"
            ]
          },
          "metadata": {
            "tags": []
          },
          "execution_count": 205
        }
      ]
    },
    {
      "cell_type": "code",
      "metadata": {
        "colab": {
          "base_uri": "https://localhost:8080/"
        },
        "id": "UIXSWAy_xxXD",
        "outputId": "867badbc-53cb-4116-ad63-4831921f99a4"
      },
      "source": [
        "embeddings.similar('рф')"
      ],
      "execution_count": null,
      "outputs": [
        {
          "output_type": "execute_result",
          "data": {
            "text/plain": [
              "[('рф', 0.99980015),\n",
              " ('россии', 0.7222661),\n",
              " ('ранее', 0.64365655),\n",
              " ('отмечается', 0.60396975),\n",
              " ('мвд', 0.60178494),\n",
              " ('первом', 0.60088485),\n",
              " ('турции', 0.6003749),\n",
              " ('словам', 0.59671444),\n",
              " ('управления', 0.5889615),\n",
              " ('глава', 0.587755)]"
            ]
          },
          "metadata": {
            "tags": []
          },
          "execution_count": 219
        }
      ]
    },
    {
      "cell_type": "code",
      "metadata": {
        "id": "8Lp2Zb8nI35v",
        "colab": {
          "base_uri": "https://localhost:8080/",
          "height": 609
        },
        "outputId": "3dae2032-9916-485f-af9f-a59e31548a48"
      },
      "source": [
        "clustering_words = ['коронавирус', 'covid', 'тест', 'диагноз', 'пневмония', 'заболевания', 'футбол', 'спорт', 'плавание', 'соревнования', 'победа', 'политика', 'президент', 'министр', 'финансы', 'управление', 'глава', 'мвд']\n",
        "clustering_vectors = embeddings.get_vectors(*clustering_words)\n",
        "print(\"Визуализация тематических кластеров векторов слов\")\n",
        "\n",
        "fig, ax = plt.subplots()\n",
        "fig.set_size_inches((10, 10))\n",
        "projections = TruncatedSVD().fit_transform(clustering_vectors)\n",
        "x = projections[:, 0]\n",
        "y = projections[:, 1]\n",
        "ax.scatter(x, y)\n",
        "for cur_x, cur_y, cur_label in zip(x, y, clustering_words):\n",
        "    ax.annotate(cur_label, (cur_x, cur_y))"
      ],
      "execution_count": null,
      "outputs": [
        {
          "output_type": "stream",
          "text": [
            "Визуализация тематических кластеров векторов слов\n"
          ],
          "name": "stdout"
        },
        {
          "output_type": "display_data",
          "data": {
            "image/png": "[encoded data removed]",
            "text/plain": [
              "<Figure size 720x720 with 1 Axes>"
            ]
          },
          "metadata": {
            "tags": [],
            "needs_background": "light"
          }
        }
      ]
    },
    {
      "cell_type": "markdown",
      "metadata": {
        "id": "JhjA6_68lp8S"
      },
      "source": [
        "# Обучение Word2Vec с помощью Gensim"
      ]
    },
    {
      "cell_type": "code",
      "metadata": {
        "id": "c01pOENDJYdG"
      },
      "source": [
        "word2vec = gensim.models.Word2Vec(sentences=train_tokenized, size=100,\n",
        "                                  window=5, min_count=5, workers=4,\n",
        "                                  sg=1, iter=10)"
      ],
      "execution_count": null,
      "outputs": []
    },
    {
      "cell_type": "code",
      "metadata": {
        "id": "QWAZA4qSJhF3",
        "colab": {
          "base_uri": "https://localhost:8080/"
        },
        "outputId": "7bd92415-8c5e-474c-c9ac-8f1538ece582"
      },
      "source": [
        "word2vec.wv.most_similar('президент')"
      ],
      "execution_count": null,
      "outputs": [
        {
          "output_type": "execute_result",
          "data": {
            "text/plain": [
              "[('токаев', 0.6945623755455017),\n",
              " ('жомарт', 0.6942183971405029),\n",
              " ('путин', 0.680253803730011),\n",
              " ('касым', 0.6665109395980835),\n",
              " ('обрадор', 0.6630406975746155),\n",
              " ('октай', 0.6577010154724121),\n",
              " ('избранный', 0.656670868396759),\n",
              " ('лидер', 0.6481192111968994),\n",
              " ('вольфович', 0.646379828453064),\n",
              " ('владимир', 0.642382025718689)]"
            ]
          },
          "metadata": {
            "tags": []
          },
          "execution_count": 235
        }
      ]
    },
    {
      "cell_type": "code",
      "metadata": {
        "colab": {
          "base_uri": "https://localhost:8080/"
        },
        "id": "KX6FxDNg3FQ2",
        "outputId": "e20f7953-25ad-4a1c-beba-0a13912e3cca"
      },
      "source": [
        "word2vec.wv.most_similar('рф')"
      ],
      "execution_count": null,
      "outputs": [
        {
          "output_type": "execute_result",
          "data": {
            "text/plain": [
              "[('россии', 0.835371732711792),\n",
              " ('федерации', 0.5942858457565308),\n",
              " ('поручениям', 0.5811846256256104),\n",
              " ('российской', 0.5786277055740356),\n",
              " ('сфо', 0.5641083717346191),\n",
              " ('зеленском', 0.5492971539497375),\n",
              " ('бычковский', 0.5424310564994812),\n",
              " ('иеговы', 0.5405256748199463),\n",
              " ('болгарии', 0.5385011434555054),\n",
              " ('страны', 0.5293979644775391)]"
            ]
          },
          "metadata": {
            "tags": []
          },
          "execution_count": 236
        }
      ]
    },
    {
      "cell_type": "code",
      "metadata": {
        "colab": {
          "base_uri": "https://localhost:8080/"
        },
        "id": "i7VnhdXy3IP8",
        "outputId": "8f4b2d78-24ff-431d-cd8c-d1565082e313"
      },
      "source": [
        "word2vec.wv.most_similar('коронавирус')"
      ],
      "execution_count": null,
      "outputs": [
        {
          "output_type": "execute_result",
          "data": {
            "text/plain": [
              "[('инфекцию', 0.7976594567298889),\n",
              " ('положительным', 0.7539291381835938),\n",
              " ('коронавирусную', 0.7456187605857849),\n",
              " ('вирус', 0.7368725538253784),\n",
              " ('положительный', 0.7361634373664856),\n",
              " ('тестом', 0.7306879758834839),\n",
              " ('теста', 0.726087212562561),\n",
              " ('тест', 0.7246643304824829),\n",
              " ('пневмонию', 0.7222490310668945),\n",
              " ('болезнь', 0.7155675888061523)]"
            ]
          },
          "metadata": {
            "tags": []
          },
          "execution_count": 237
        }
      ]
    },
    {
      "cell_type": "code",
      "metadata": {
        "id": "WGh-gpQmJkq-",
        "colab": {
          "base_uri": "https://localhost:8080/",
          "height": 609
        },
        "outputId": "025fbd9a-3e0e-484b-813d-994d5584e18d"
      },
      "source": [
        "gensim_vectors = np.stack([word2vec.wv[w] for w in clustering_words])\n",
        "print(\"Визуализация тематических кластеров векторов слов, полученных с помощью Gensim\")\n",
        "\n",
        "fig, ax = plt.subplots()\n",
        "fig.set_size_inches((10, 10))\n",
        "projections = TruncatedSVD().fit_transform(gensim_vectors)\n",
        "x = projections[:, 0]\n",
        "y = projections[:, 1]\n",
        "ax.scatter(x, y)\n",
        "for cur_x, cur_y, cur_label in zip(x, y, clustering_words):\n",
        "    ax.annotate(cur_label, (cur_x, cur_y))"
      ],
      "execution_count": null,
      "outputs": [
        {
          "output_type": "stream",
          "text": [
            "Визуализация тематических кластеров векторов слов, полученных с помощью Gensim\n"
          ],
          "name": "stdout"
        },
        {
          "output_type": "display_data",
          "data": {
            "image/png": "[encoded data removed]",
            "text/plain": [
              "<Figure size 720x720 with 1 Axes>"
            ]
          },
          "metadata": {
            "tags": [],
            "needs_background": "light"
          }
        }
      ]
    }
  ]
}
{
  "nbformat": 4,
  "nbformat_minor": 0,
  "metadata": {
    "colab": {
      "name": "Reversible_Residual_Networks",
      "provenance": [],
      "authorship_tag": "ABX9TyN9hggYS9cSAuzdsGvmkEGQ",
      "include_colab_link": true
    },
    "kernelspec": {
      "name": "python3",
      "display_name": "Python 3"
    },
    "language_info": {
      "name": "python"
    }
  },
  "cells": [
    {
      "cell_type": "markdown",
      "metadata": {
        "id": "view-in-github",
        "colab_type": "text"
      },
      "source": [
        "<a href=\"https://colab.research.google.com/github/vifirsanova/100-days-of-code/blob/main/day16/Reversible_Residual_Networks.ipynb\" target=\"_parent\"><img src=\"https://colab.research.google.com/assets/colab-badge.svg\" alt=\"Open In Colab\"/></a>"
      ]
    },
    {
      "cell_type": "markdown",
      "metadata": {
        "id": "4R6lRa6CZYJe"
      },
      "source": [
        "**2 base features:**\n",
        "\n",
        "1. *Locality Sensitive Hashing (LSH) Attention* reduces the compute cost of the dot product attention\n",
        "2. *Reversible Residual Networks (RevNets)* reduces the storage requirements during backpropagation"
      ]
    },
    {
      "cell_type": "code",
      "metadata": {
        "id": "xI6NDEZfZSMb"
      },
      "source": [
        "#!pip install trax\n",
        "\n",
        "import trax\n",
        "from trax import layers as tl\n",
        "import numpy as np\n",
        "from trax.layers.reversible import ReversibleHalfResidual\n",
        "from trax import fastmath\n",
        "from trax import shapes\n",
        "from trax.fastmath import numpy as jnp\n",
        "from trax.shapes import ShapeDtype\n",
        "from trax.shapes import signature"
      ],
      "execution_count": 3,
      "outputs": []
    },
    {
      "cell_type": "markdown",
      "metadata": {
        "id": "h0pETB6MdRmF"
      },
      "source": [
        "# Residual Model"
      ]
    },
    {
      "cell_type": "code",
      "metadata": {
        "id": "dfOsRuW9aOGG"
      },
      "source": [
        "def Residual(layer):\n",
        "    return tl.Serial(\n",
        "        tl.Branch(layer, None), # stack: if None, pull the top and push onto the output \n",
        "        tl.Add()\n",
        "    )"
      ],
      "execution_count": 9,
      "outputs": []
    },
    {
      "cell_type": "markdown",
      "metadata": {
        "id": "Gpdx7ydreYYU"
      },
      "source": [
        "# Reversible Residual Network (RevNet)\n",
        "\n",
        "**Concept**: additional computations trade for memory space."
      ]
    },
    {
      "cell_type": "code",
      "metadata": {
        "colab": {
          "base_uri": "https://localhost:8080/"
        },
        "id": "c7Fk_If7dUTZ",
        "outputId": "e936eedb-e546-4f3a-ac1f-e974978d17cd"
      },
      "source": [
        "F_layer = tl.Fn(\"F\", lambda x0: (2 * x0), n_out=1)\n",
        "G_layer = tl.Fn(\"G\", lambda x0: (8 * x0), n_out=1)\n",
        "\n",
        "block = [\n",
        "    ReversibleHalfResidual(F_layer), \n",
        "    tl.ReversibleSwap(), # reverses, duplicates the top of stack, returns the stack\n",
        "    ReversibleHalfResidual(G_layer), \n",
        "    tl.ReversibleSwap(), # reverses, duplicates the top of stack, returns the stack\n",
        "]\n",
        "blocks = [block, block]\n",
        "\n",
        "model = tl.Serial(\n",
        "    tl.Dup(), # duplicates the top of stack, returns the stack\n",
        "    blocks,\n",
        "    tl.Concatenate(),\n",
        ")\n",
        "model"
      ],
      "execution_count": 18,
      "outputs": [
        {
          "output_type": "execute_result",
          "data": {
            "text/plain": [
              "Serial[\n",
              "  Dup_out2\n",
              "  ReversibleHalfResidual_in2_out2[\n",
              "    Serial[\n",
              "      F\n",
              "    ]\n",
              "  ]\n",
              "  ReversibleSwap_in2_out2\n",
              "  ReversibleHalfResidual_in2_out2[\n",
              "    Serial[\n",
              "      G\n",
              "    ]\n",
              "  ]\n",
              "  ReversibleSwap_in2_out2\n",
              "  ReversibleHalfResidual_in2_out2[\n",
              "    Serial[\n",
              "      F\n",
              "    ]\n",
              "  ]\n",
              "  ReversibleSwap_in2_out2\n",
              "  ReversibleHalfResidual_in2_out2[\n",
              "    Serial[\n",
              "      G\n",
              "    ]\n",
              "  ]\n",
              "  ReversibleSwap_in2_out2\n",
              "  Concatenate_in2\n",
              "]"
            ]
          },
          "metadata": {
            "tags": []
          },
          "execution_count": 18
        }
      ]
    },
    {
      "cell_type": "code",
      "metadata": {
        "colab": {
          "base_uri": "https://localhost:8080/"
        },
        "id": "WPpWzhiHp8S8",
        "outputId": "142e2d61-78cf-4b1b-b3fa-a2ad328c323a"
      },
      "source": [
        "x1 = np.array([1])\n",
        "model.init(shapes.signature(x1))\n",
        "out = model(x1)\n",
        "out"
      ],
      "execution_count": 19,
      "outputs": [
        {
          "output_type": "execute_result",
          "data": {
            "text/plain": [
              "DeviceArray([ 53, 449], dtype=int32)"
            ]
          },
          "metadata": {
            "tags": []
          },
          "execution_count": 19
        }
      ]
    }
  ]
}